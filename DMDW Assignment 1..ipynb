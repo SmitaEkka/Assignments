{
 "cells": [
  {
   "cell_type": "markdown",
   "metadata": {},
   "source": [
    "# Assignment 1"
   ]
  },
  {
   "cell_type": "markdown",
   "metadata": {},
   "source": [
    "Q1. Find the Mean, Median and Mode of set of elements."
   ]
  },
  {
   "cell_type": "code",
   "execution_count": 4,
   "metadata": {},
   "outputs": [
    {
     "name": "stdout",
     "output_type": "stream",
     "text": [
      "mean is: 107.0909090909091 \n",
      " median is: 7.0 \n",
      " mode is: ModeResult(mode=array([6]), count=array([2]))\n"
     ]
    }
   ],
   "source": [
    "import numpy\n",
    "import scipy\n",
    "from scipy import stats\n",
    "item=[2,7,88,3,5,6,90,8,77,6,886]\n",
    "me=numpy.mean(item)\n",
    "med=numpy.median(item)\n",
    "mo=stats.mode(item)\n",
    "print(\"mean is:\",me,\"\\n\",\"median is:\",med,\"\\n\",\"mode is:\",mo)\n"
   ]
  },
  {
   "cell_type": "markdown",
   "metadata": {},
   "source": [
    "Q2. Find the Standard Deviation and Variance of set of elements."
   ]
  },
  {
   "cell_type": "code",
   "execution_count": 5,
   "metadata": {},
   "outputs": [
    {
     "name": "stdout",
     "output_type": "stream",
     "text": [
      "standard deviation : 248.78594470144756 \n",
      " variance : 61894.446280991724\n"
     ]
    }
   ],
   "source": [
    "import numpy\n",
    "item=[2,7,88,3,5,6,90,8,77,6,886]\n",
    "s=numpy.std(item)\n",
    "v=numpy.var(item)\n",
    "print(\"standard deviation :\",s,\"\\n\",\"variance :\",v)"
   ]
  }
 ],
 "metadata": {
  "kernelspec": {
   "display_name": "Python 3",
   "language": "python",
   "name": "python3"
  },
  "language_info": {
   "codemirror_mode": {
    "name": "ipython",
    "version": 3
   },
   "file_extension": ".py",
   "mimetype": "text/x-python",
   "name": "python",
   "nbconvert_exporter": "python",
   "pygments_lexer": "ipython3",
   "version": "3.7.4"
  }
 },
 "nbformat": 4,
 "nbformat_minor": 2
}
